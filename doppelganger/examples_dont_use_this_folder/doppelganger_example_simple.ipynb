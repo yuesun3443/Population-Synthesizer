{
 "cells": [
  {
   "cell_type": "markdown",
   "metadata": {},
   "source": [
    "# Doppelganger! (Simple)\n",
    "Welcome to the simplified Doppelganger example. If you have not already done so, please see the [README document](https://github.com/sidewalklabs/doppelganger/blob/master/README.md) for installation instructions and information on what Doppelganger is doing under the hood. For a more thorough walkthrough, take a look at [doppelganger_example_full](./doppelganger_example_full.ipynb)."
   ]
  },
  {
   "cell_type": "markdown",
   "metadata": {},
   "source": [
    "# Getting Started\n",
    "Doppelganger lets you configure which census fields you use, the relationships among these fields (network structure), and the data preprocessing. We'll begin by loading the necessary packages, and then load a simple configuration file."
   ]
  },
  {
   "cell_type": "code",
   "execution_count": 1,
   "metadata": {},
   "outputs": [],
   "source": [
    "import pandas as pd\n",
    "\n",
    "from doppelganger import (\n",
    "    allocation,\n",
    "    inputs,\n",
    "    Configuration,\n",
    "    HouseholdAllocator,\n",
    "    PumsData,\n",
    "    SegmentedData,\n",
    "    BayesianNetworkModel,\n",
    "    Population,\n",
    "    Preprocessor,\n",
    "    Marginals\n",
    ")\n",
    "\n",
    "configuration = Configuration.from_file('sample_data/config.json')"
   ]
  },
  {
   "cell_type": "markdown",
   "metadata": {},
   "source": [
    "# Loading and Cleaning Data\n",
    "The following loads our data and cleans it according to the configuration. Reusing the same preprocessor ensures all data is cleaned consistently. We'll use California's PUMA `00106` for our demonstration."
   ]
  },
  {
   "cell_type": "code",
   "execution_count": 4,
   "metadata": {},
   "outputs": [],
   "source": [
    "PUMA = '00106'\n",
    "\n",
    "preprocessor = Preprocessor.from_config(configuration.preprocessing_config)\n",
    "\n",
    "# Take pums fields from the config and from the default fields needed for\n",
    "# the household allocation process.\n",
    "household_fields = tuple(set(\n",
    "    field.name for field in allocation.DEFAULT_HOUSEHOLD_FIELDS).union(\n",
    "        set(configuration.household_fields)\n",
    "))\n",
    "\n",
    "households_data = PumsData.from_csv('sample_data/households_00106_dirty.csv').clean(\n",
    "    household_fields, preprocessor, puma=PUMA\n",
    ")\n",
    "\n",
    "persons_fields = tuple(set(\n",
    "    field.name for field in allocation.DEFAULT_PERSON_FIELDS).union(\n",
    "        set(configuration.person_fields)\n",
    "))\n",
    "persons_data = PumsData.from_csv('sample_data/persons_00106_dirty.csv').clean(\n",
    "    persons_fields, preprocessor, puma=PUMA\n",
    ")"
   ]
  },
  {
   "cell_type": "code",
   "execution_count": 5,
   "metadata": {
    "scrolled": true
   },
   "outputs": [
    {
     "data": {
      "text/html": [
       "<div>\n",
       "<style scoped>\n",
       "    .dataframe tbody tr th:only-of-type {\n",
       "        vertical-align: middle;\n",
       "    }\n",
       "\n",
       "    .dataframe tbody tr th {\n",
       "        vertical-align: top;\n",
       "    }\n",
       "\n",
       "    .dataframe thead th {\n",
       "        text-align: right;\n",
       "    }\n",
       "</style>\n",
       "<table border=\"1\" class=\"dataframe\">\n",
       "  <thead>\n",
       "    <tr style=\"text-align: right;\">\n",
       "      <th></th>\n",
       "      <th>num_vehicles</th>\n",
       "      <th>num_people</th>\n",
       "      <th>household_weight</th>\n",
       "      <th>state</th>\n",
       "      <th>puma</th>\n",
       "      <th>serial_number</th>\n",
       "      <th>household_income</th>\n",
       "    </tr>\n",
       "  </thead>\n",
       "  <tbody>\n",
       "  </tbody>\n",
       "</table>\n",
       "</div>"
      ],
      "text/plain": [
       "Empty DataFrame\n",
       "Columns: [num_vehicles, num_people, household_weight, state, puma, serial_number, household_income]\n",
       "Index: []"
      ]
     },
     "execution_count": 5,
     "metadata": {},
     "output_type": "execute_result"
    }
   ],
   "source": [
    "households_data.data"
   ]
  },
  {
   "cell_type": "code",
   "execution_count": 6,
   "metadata": {
    "scrolled": true
   },
   "outputs": [
    {
     "data": {
      "text/html": [
       "<div>\n",
       "<style scoped>\n",
       "    .dataframe tbody tr th:only-of-type {\n",
       "        vertical-align: middle;\n",
       "    }\n",
       "\n",
       "    .dataframe tbody tr th {\n",
       "        vertical-align: top;\n",
       "    }\n",
       "\n",
       "    .dataframe thead th {\n",
       "        text-align: right;\n",
       "    }\n",
       "</style>\n",
       "<table border=\"1\" class=\"dataframe\">\n",
       "  <thead>\n",
       "    <tr style=\"text-align: right;\">\n",
       "      <th></th>\n",
       "      <th>individual_income</th>\n",
       "      <th>age</th>\n",
       "      <th>sex</th>\n",
       "      <th>state</th>\n",
       "      <th>puma</th>\n",
       "      <th>serial_number</th>\n",
       "      <th>person_weight</th>\n",
       "    </tr>\n",
       "  </thead>\n",
       "  <tbody>\n",
       "  </tbody>\n",
       "</table>\n",
       "</div>"
      ],
      "text/plain": [
       "Empty DataFrame\n",
       "Columns: [individual_income, age, sex, state, puma, serial_number, person_weight]\n",
       "Index: []"
      ]
     },
     "execution_count": 6,
     "metadata": {},
     "output_type": "execute_result"
    }
   ],
   "source": [
    "persons_data.data"
   ]
  },
  {
   "cell_type": "markdown",
   "metadata": {},
   "source": [
    "# Household Allocation\n",
    "Now we will allocate persons and households to tracts to align with census controls.  First, load our controls based on ACS marginals."
   ]
  },
  {
   "cell_type": "code",
   "execution_count": null,
   "metadata": {},
   "outputs": [],
   "source": [
    "controls = Marginals.from_csv('sample_data/marginals_00106.csv')"
   ]
  },
  {
   "cell_type": "code",
   "execution_count": null,
   "metadata": {
    "scrolled": true
   },
   "outputs": [],
   "source": [
    "controls.data"
   ]
  },
  {
   "cell_type": "markdown",
   "metadata": {},
   "source": [
    "Now use `HouseholdAllocator` to generate household allocations."
   ]
  },
  {
   "cell_type": "code",
   "execution_count": null,
   "metadata": {},
   "outputs": [],
   "source": [
    "allocator = HouseholdAllocator.from_cleaned_data(controls, households_data, persons_data)"
   ]
  },
  {
   "cell_type": "markdown",
   "metadata": {},
   "source": [
    "# Bayesian Network Generation\n",
    "Let's create models to generate characteristics for the people and households we just allocated. We'll start by loading up our pums data.  Our model learns different probability distributions for each category of person.  The category can be whatever you want and is specified by passing a segmentation function when you load training data.\n"
   ]
  },
  {
   "cell_type": "code",
   "execution_count": null,
   "metadata": {},
   "outputs": [],
   "source": [
    "segmentation_function = lambda x: x[inputs.AGE.name]\n",
    "person_training_data = SegmentedData.from_data(\n",
    "    persons_data,\n",
    "    list(configuration.person_fields),\n",
    "    inputs.PERSON_WEIGHT.name,\n",
    "    segmenter=segmentation_function\n",
    ")\n",
    "person_model = BayesianNetworkModel.train(\n",
    "    person_training_data,\n",
    "    configuration.person_structure,\n",
    "    configuration.person_fields\n",
    ")\n",
    "\n",
    "household_segmenter = lambda x: x[inputs.NUM_PEOPLE.name]\n",
    "\n",
    "household_training_data = SegmentedData.from_data(\n",
    "    households_data,\n",
    "    list(configuration.household_fields),\n",
    "    inputs.HOUSEHOLD_WEIGHT.name,\n",
    "    household_segmenter,\n",
    ")\n",
    "household_model = BayesianNetworkModel.train(\n",
    "    household_training_data,\n",
    "    configuration.household_structure,\n",
    "    configuration.household_fields\n",
    ")"
   ]
  },
  {
   "cell_type": "markdown",
   "metadata": {},
   "source": [
    "# Population Synthesis\n",
    "Now for the main event! We can synthesize a population by taking the household allocations\n",
    "we produced above and filling out missing categories with our Bayesian Networks.\n"
   ]
  },
  {
   "cell_type": "code",
   "execution_count": null,
   "metadata": {},
   "outputs": [],
   "source": [
    "population = Population.generate(allocator, person_model, household_model)"
   ]
  },
  {
   "cell_type": "markdown",
   "metadata": {},
   "source": [
    "We can access the people and households as Pandas DataFrames and work with them directly. Households and people are unique by household_id. We can also join them to create a fat table of individual and household attributes."
   ]
  },
  {
   "cell_type": "code",
   "execution_count": null,
   "metadata": {},
   "outputs": [],
   "source": [
    "people = population.generated_people\n",
    "households = population.generated_households\n",
    "\n",
    "merge_cols = [inputs.HOUSEHOLD_ID.name]\n",
    "combined = pd.merge(people, households, on=merge_cols)\n",
    "\n",
    "print(combined)"
   ]
  },
  {
   "cell_type": "markdown",
   "metadata": {},
   "source": [
    "We can easily save this population to a csv.\n"
   ]
  },
  {
   "cell_type": "code",
   "execution_count": null,
   "metadata": {},
   "outputs": [],
   "source": [
    "population.write('generated_people.csv', 'generated_households.csv')"
   ]
  },
  {
   "cell_type": "markdown",
   "metadata": {},
   "source": [
    "We can additionally save any of our intermediary stages and load them up again\n",
    "whenever we want.  For example, we could save our Bayesian Network and reuse them\n",
    "again later with the same or different household allocations.\n"
   ]
  },
  {
   "cell_type": "code",
   "execution_count": null,
   "metadata": {},
   "outputs": [],
   "source": [
    "person_model.write('person_model.json')\n",
    "person_model_reloaded = BayesianNetworkModel.from_file('person_model.json', segmenter=segmentation_function)"
   ]
  },
  {
   "cell_type": "markdown",
   "metadata": {},
   "source": [
    "# Customize by PUMA\n",
    "To try this out on the PUMA of your choice and learn to make other customizations, take a look at [doppelganger_example_full](./doppelganger_example_full.ipynb)."
   ]
  }
 ],
 "metadata": {
  "kernelspec": {
   "display_name": "dop2",
   "language": "python",
   "name": "dop2"
  },
  "language_info": {
   "codemirror_mode": {
    "name": "ipython",
    "version": 3
   },
   "file_extension": ".py",
   "mimetype": "text/x-python",
   "name": "python",
   "nbconvert_exporter": "python",
   "pygments_lexer": "ipython3",
   "version": "3.6.13"
  }
 },
 "nbformat": 4,
 "nbformat_minor": 2
}
